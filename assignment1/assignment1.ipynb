{
 "cells": [
  {
   "cell_type": "markdown",
   "id": "b8ece826",
   "metadata": {},
   "source": [
    "<h1><center>assignment1</center></h1>\n",
    "<div style=\"margin-left:100px;\">\n",
    "<ul>\n",
    "        <li>1. Input function for entering data into a dictionary.</li>\n",
    "        <li>2. Data to be captured include: Day of the Month, Total Hrs Spent, Task Name.</li>\n",
    "        <li>3. Append the dictionary into a list and store the result(i.e. a list of dictionaries) into a CSV file by using a Pandas DataFrame.</li>\n",
    "        <li>4. Retrieve the CSV file into a Pandas DataFrame and create a line chart depicting the number of hours spent on different tasks.</li>\n",
    "        <li>5. For simplicity, use no more than three tasks.</li>\n",
    "        <li>6. Upload the finish assignment in Jupyter Notebook together with the CSV file (any module file created is optional) to your Github repository inside a folder called \"assignment_1\" \n",
    "</li>\n",
    "</ul>\n",
    "</div>"
   ]
  },
  {
   "cell_type": "code",
   "execution_count": 42,
   "id": "86ee7ed7",
   "metadata": {},
   "outputs": [
    {
     "name": "stdout",
     "output_type": "stream",
     "text": [
      "93\n",
      "68\n",
      "87\n",
      "[{'task_name': 'task1', 'total_hrs': 93, 'day_month': '15/09'}, {'task_name': 'task2', 'total_hrs': 68, 'day_month': '15/09'}, {'task_name': 'task3', 'total_hrs': 87, 'day_month': '15/09'}]\n"
     ]
    }
   ],
   "source": [
    "import pandas as pd\n",
    "from matplotlib import pyplot as plt\n",
    "\n",
    "day_month=['02/09','04/09','06/09','08/09','10/09','12/09','14/09','16/09']\n",
    "task1_hrs=[18,15,20,10,6,9,10,5]\n",
    "task2_hrs=[3,6,7,9,13,9,9,12]\n",
    "task3_hrs=[10,12,13,15,10,9,8,10]\n",
    "task1_total_hrs=0\n",
    "task2_total_hrs=0\n",
    "task3_total_hrs=0\n",
    "\n",
    "# Sum up the hours of every single day spend on each task.\n",
    "for n in range(0,len(task1_hrs)):\n",
    "    task1_total_hrs+=task1_hrs[n]\n",
    "print(task1_total_hrs)\n",
    "\n",
    "for n in range(0,len(task2_hrs)):\n",
    "    task2_total_hrs+=task2_hrs[n]\n",
    "print(task2_total_hrs)\n",
    "\n",
    "for n in range(0,len(task3_hrs)):\n",
    "    task3_total_hrs+=task3_hrs[n]\n",
    "print(task3_total_hrs)\n",
    "\n",
    "task_list1={'task_name':'task1','total_hrs':task1_total_hrs,'day_month':'15/09'}\n",
    "task_list2={'task_name':'task2','total_hrs':task2_total_hrs,'day_month':'15/09'}\n",
    "task_list3={'task_name':'task3','total_hrs':task3_total_hrs,'day_month':'15/09'}\n",
    "\n",
    "# Append the dictionary into a list.\n",
    "task=[]\n",
    "task.append(task_list1)\n",
    "task.append(task_list2)\n",
    "task.append(task_list3)\n",
    "df=pd.DataFrame(task)\n",
    "print(task)"
   ]
  },
  {
   "cell_type": "code",
   "execution_count": 44,
   "id": "503ed387",
   "metadata": {},
   "outputs": [
    {
     "data": {
      "text/html": [
       "<div>\n",
       "<style scoped>\n",
       "    .dataframe tbody tr th:only-of-type {\n",
       "        vertical-align: middle;\n",
       "    }\n",
       "\n",
       "    .dataframe tbody tr th {\n",
       "        vertical-align: top;\n",
       "    }\n",
       "\n",
       "    .dataframe thead th {\n",
       "        text-align: right;\n",
       "    }\n",
       "</style>\n",
       "<table border=\"1\" class=\"dataframe\">\n",
       "  <thead>\n",
       "    <tr style=\"text-align: right;\">\n",
       "      <th></th>\n",
       "      <th>task_name</th>\n",
       "      <th>total_hrs</th>\n",
       "      <th>day_month</th>\n",
       "    </tr>\n",
       "  </thead>\n",
       "  <tbody>\n",
       "    <tr>\n",
       "      <th>0</th>\n",
       "      <td>task1</td>\n",
       "      <td>93</td>\n",
       "      <td>15/09</td>\n",
       "    </tr>\n",
       "    <tr>\n",
       "      <th>1</th>\n",
       "      <td>task2</td>\n",
       "      <td>68</td>\n",
       "      <td>15/09</td>\n",
       "    </tr>\n",
       "    <tr>\n",
       "      <th>2</th>\n",
       "      <td>task3</td>\n",
       "      <td>87</td>\n",
       "      <td>15/09</td>\n",
       "    </tr>\n",
       "  </tbody>\n",
       "</table>\n",
       "</div>"
      ],
      "text/plain": [
       "  task_name  total_hrs day_month\n",
       "0     task1         93     15/09\n",
       "1     task2         68     15/09\n",
       "2     task3         87     15/09"
      ]
     },
     "execution_count": 44,
     "metadata": {},
     "output_type": "execute_result"
    }
   ],
   "source": [
    "# Assign the list of dictionaries to a dataframe.\n",
    "df=pd.DataFrame(task)\n",
    "# Save to CSV file.\n",
    "df.to_csv('tasklist.csv',mode='w',index=False)\n",
    "df"
   ]
  },
  {
   "cell_type": "code",
   "execution_count": 46,
   "id": "eefcd79a",
   "metadata": {},
   "outputs": [
    {
     "data": {
      "image/png": "[encoded data removed]",
      "text/plain": [
       "<Figure size 432x288 with 1 Axes>"
      ]
     },
     "metadata": {
      "needs_background": "light"
     },
     "output_type": "display_data"
    }
   ],
   "source": [
    "# Retrieve the CSV file into a Pandas DataFrame\n",
    "df=pd.read_csv(\"tasklist.csv\")\n",
    "# This line chart describes that the number of hours spent on each day of three different tasks.\n",
    "time=['02/09','04/09','06/09','08/09','10/09','12/09','14/09','16/09']\n",
    "# task1_hrs=[18,15,20,10,6,9,10,5]\n",
    "# task2_hrs=[3,6,7,9,13,9,9,12]\n",
    "# task3_hrs=[10,12,13,15,10,9,8,10]\n",
    "plt.title('Hours for Three Tasks')\n",
    "plt.xlabel('Day of the Month')\n",
    "plt.ylabel('Hours')\n",
    "plt.legend(['task1_hrs', 'task2_hrs','task3_hrs']) \n",
    "plt.plot(time,task1_hrs,color='blue',linestyle='--')\n",
    "plt.plot(time,task2_hrs,color='orange',marker='s')\n",
    "plt.plot(time,task3_hrs,color='pink',linestyle='--')\n",
    "plt.show()"
   ]
  },
  {
   "cell_type": "code",
   "execution_count": null,
   "id": "12cac2a5",
   "metadata": {},
   "outputs": [],
   "source": []
  }
 ],
 "metadata": {
  "kernelspec": {
   "display_name": "Python 3",
   "language": "python",
   "name": "python3"
  },
  "language_info": {
   "codemirror_mode": {
    "name": "ipython",
    "version": 3
   },
   "file_extension": ".py",
   "mimetype": "text/x-python",
   "name": "python",
   "nbconvert_exporter": "python",
   "pygments_lexer": "ipython3",
   "version": "3.8.8"
  }
 },
 "nbformat": 4,
 "nbformat_minor": 5
}

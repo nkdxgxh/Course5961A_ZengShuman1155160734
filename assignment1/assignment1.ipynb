{
 "cells": [
  {
   "cell_type": "code",
   "execution_count": 63,
   "id": "5f057ac1",
   "metadata": {},
   "outputs": [
    {
     "name": "stdout",
     "output_type": "stream",
     "text": [
      "Please write down the number of hours spent on task1,task2 and task3 in No.1 day of the month.\n",
      "12\n",
      "12\n",
      "12\n",
      "Please write down the number of hours spent on task1,task2 and task3 in No.2 day of the month.\n",
      "12\n",
      "12\n",
      "21\n",
      "Please write down the number of hours spent on task1,task2 and task3 in No.3 day of the month.\n",
      "13\n",
      "21\n",
      "21\n",
      "Please write down the number of hours spent on task1,task2 and task3 in No.4 day of the month.\n",
      "21\n",
      "12\n",
      "13\n",
      "Please write down the number of hours spent on task1,task2 and task3 in No.5 day of the month.\n",
      "12\n",
      "14\n",
      "16\n",
      "Please write down the number of hours spent on task1,task2 and task3 in No.6 day of the month.\n",
      "12\n",
      "23\n",
      "12\n",
      "[{'day_month': '01/09', 'task1': 12, 'task2': 12, 'task3': 12}, {'day_month': '02/09', 'task1': 12, 'task2': 12, 'task3': 21}, {'day_month': '03/09', 'task1': 13, 'task2': 21, 'task3': 21}, {'day_month': '04/09', 'task1': 21, 'task2': 12, 'task3': 13}, {'day_month': '05/09', 'task1': 12, 'task2': 14, 'task3': 16}, {'day_month': '06/09', 'task1': 12, 'task2': 23, 'task3': 12}]\n"
     ]
    },
    {
     "data": {
      "text/html": [
       "<div>\n",
       "<style scoped>\n",
       "    .dataframe tbody tr th:only-of-type {\n",
       "        vertical-align: middle;\n",
       "    }\n",
       "\n",
       "    .dataframe tbody tr th {\n",
       "        vertical-align: top;\n",
       "    }\n",
       "\n",
       "    .dataframe thead th {\n",
       "        text-align: right;\n",
       "    }\n",
       "</style>\n",
       "<table border=\"1\" class=\"dataframe\">\n",
       "  <thead>\n",
       "    <tr style=\"text-align: right;\">\n",
       "      <th></th>\n",
       "      <th>day_month</th>\n",
       "      <th>task1</th>\n",
       "      <th>task2</th>\n",
       "      <th>task3</th>\n",
       "    </tr>\n",
       "  </thead>\n",
       "  <tbody>\n",
       "    <tr>\n",
       "      <th>0</th>\n",
       "      <td>01/09</td>\n",
       "      <td>12</td>\n",
       "      <td>12</td>\n",
       "      <td>12</td>\n",
       "    </tr>\n",
       "    <tr>\n",
       "      <th>1</th>\n",
       "      <td>02/09</td>\n",
       "      <td>12</td>\n",
       "      <td>12</td>\n",
       "      <td>21</td>\n",
       "    </tr>\n",
       "    <tr>\n",
       "      <th>2</th>\n",
       "      <td>03/09</td>\n",
       "      <td>13</td>\n",
       "      <td>21</td>\n",
       "      <td>21</td>\n",
       "    </tr>\n",
       "    <tr>\n",
       "      <th>3</th>\n",
       "      <td>04/09</td>\n",
       "      <td>21</td>\n",
       "      <td>12</td>\n",
       "      <td>13</td>\n",
       "    </tr>\n",
       "    <tr>\n",
       "      <th>4</th>\n",
       "      <td>05/09</td>\n",
       "      <td>12</td>\n",
       "      <td>14</td>\n",
       "      <td>16</td>\n",
       "    </tr>\n",
       "    <tr>\n",
       "      <th>5</th>\n",
       "      <td>06/09</td>\n",
       "      <td>12</td>\n",
       "      <td>23</td>\n",
       "      <td>12</td>\n",
       "    </tr>\n",
       "  </tbody>\n",
       "</table>\n",
       "</div>"
      ],
      "text/plain": [
       "  day_month  task1  task2  task3\n",
       "0     01/09     12     12     12\n",
       "1     02/09     12     12     21\n",
       "2     03/09     13     21     21\n",
       "3     04/09     21     12     13\n",
       "4     05/09     12     14     16\n",
       "5     06/09     12     23     12"
      ]
     },
     "execution_count": 63,
     "metadata": {},
     "output_type": "execute_result"
    }
   ],
   "source": [
    "import pandas as pd\n",
    "from matplotlib import pyplot as plt\n",
    "\n",
    "day_month=['01/09','02/09','03/09','04/09','05/09','06/09']\n",
    "task_list=[]\n",
    "task1_list=[]\n",
    "task2_list=[]\n",
    "task3_list=[]\n",
    "avg_list=[]\n",
    "day=0\n",
    "# 1.Input the number of hours spent on each task.\n",
    "for i in day_month:\n",
    "    if day < 6:\n",
    "        day+=1\n",
    "    print(\"Please write down the number of hours spent on task1,task2 and task3 in No.\"+str(day)+\" day of the month.\")\n",
    "    task1=input()\n",
    "    task1=int(task1)\n",
    "    task1_list.append(task1)\n",
    "    task2=input()\n",
    "    task2=int(task2)\n",
    "    task2_list.append(task2)\n",
    "    task3=input()\n",
    "    task3=int(task3)\n",
    "    task3_list.append(task3)\n",
    "    avg=int((task1+task2+task3)/3)\n",
    "    avg_list.append(avg)\n",
    "# 2.Append the dictionary into a list.\n",
    "    task_list.append({'day_month':i,'task1':task1,'task2':task2,'task3':task3}) \n",
    "print(task_list)\n",
    "# 3.Assign the list of dictionaries to a dataframe.\n",
    "df=pd.DataFrame(task_list)\n",
    "# 4.Save to CSV file.\n",
    "df.to_csv('task_list.csv',mode='w',index=False)\n",
    "df"
   ]
  },
  {
   "cell_type": "code",
   "execution_count": 64,
   "id": "713dabc7",
   "metadata": {},
   "outputs": [
    {
     "name": "stdout",
     "output_type": "stream",
     "text": [
      "[12, 12, 13, 21, 12, 12]\n",
      "15\n",
      "[12, 15, 18, 15, 14, 15]\n"
     ]
    }
   ],
   "source": [
    "# test if task_list is int type\n",
    "# print(task1_list)\n",
    "# print(avg)\n",
    "# print(avg_list)"
   ]
  },
  {
   "cell_type": "code",
   "execution_count": 66,
   "id": "9d641dd4",
   "metadata": {},
   "outputs": [
    {
     "data": {
      "image/png": "[encoded data removed]",
      "text/plain": [
       "<Figure size 432x288 with 1 Axes>"
      ]
     },
     "metadata": {
      "needs_background": "light"
     },
     "output_type": "display_data"
    }
   ],
   "source": [
    "# 5.Retrieve the CSV file into a Pandas DataFrame\n",
    "df=pd.read_csv(\"task_list.csv\")\n",
    "plt.title('Hours for Three Tasks')\n",
    "plt.xlabel('Day of the Month')\n",
    "plt.ylabel('Hours')\n",
    "plt.legend(['task1_list', 'task2_list','task3_list']) \n",
    "plt.plot(day_month,task1_list,color='blue',linestyle='--')\n",
    "plt.plot(day_month,task2_list,color='orange',linestyle='--')\n",
    "plt.plot(day_month,task3_list,color='pink',linestyle='--')\n",
    "# Average hour!!\n",
    "plt.plot(day_month,avg_list,color='red',marker='.')\n",
    "plt.show()\n",
    "\n",
    "# finished 15/09/2021 2:00AM"
   ]
  },
  {
   "cell_type": "code",
   "execution_count": null,
   "id": "a0874e34",
   "metadata": {},
   "outputs": [],
   "source": []
  }
 ],
 "metadata": {
  "kernelspec": {
   "display_name": "Python 3",
   "language": "python",
   "name": "python3"
  },
  "language_info": {
   "codemirror_mode": {
    "name": "ipython",
    "version": 3
   },
   "file_extension": ".py",
   "mimetype": "text/x-python",
   "name": "python",
   "nbconvert_exporter": "python",
   "pygments_lexer": "ipython3",
   "version": "3.8.8"
  }
 },
 "nbformat": 4,
 "nbformat_minor": 5
}

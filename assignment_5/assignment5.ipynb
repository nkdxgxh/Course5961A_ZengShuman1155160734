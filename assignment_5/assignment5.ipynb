{
 "cells": [
  {
   "cell_type": "code",
   "execution_count": 1,
   "source": [
    "################################################################################################################\r\n",
    "\r\n",
    "# EXTERNAL MODULES TO BE USED\r\n",
    "\r\n",
    "################################################################################################################\r\n",
    "\r\n",
    "from flask import Flask, render_template, redirect, url_for\r\n",
    "import pandas as pd\r\n",
    "\r\n",
    "app = Flask(__name__)\r\n",
    "    \r\n",
    "################################################################################################################\r\n",
    "\r\n",
    "# WEB ROUTES FOR CONTROLLING ACCESS TO TEMPLATE VIEWS\r\n",
    "\r\n",
    "################################################################################################################\r\n",
    "\r\n",
    "@app.route(\"/\")\r\n",
    "def index():\r\n",
    "    return render_template('index.html')\r\n",
    "\r\n",
    "\r\n",
    "@app.route(\"/game\")\r\n",
    "def movies():\r\n",
    "    # This csv file is obtained from Assignmrnt_4.\r\n",
    "    df = pd.read_csv(\"game.csv\")\r\n",
    "    list = df.to_dict('records')\r\n",
    "    return render_template('game.html', entries = list)\r\n",
    "\r\n",
    "\r\n",
    "if __name__ == '__main__':\r\n",
    "    app.run('localhost', 8888)"
   ],
   "outputs": [
    {
     "output_type": "stream",
     "name": "stdout",
     "text": [
      " * Serving Flask app \"__main__\" (lazy loading)\n",
      " * Environment: production\n",
      "   WARNING: This is a development server. Do not use it in a production deployment.\n",
      "   Use a production WSGI server instead.\n",
      " * Debug mode: off\n"
     ]
    },
    {
     "output_type": "stream",
     "name": "stderr",
     "text": [
      " * Running on http://localhost:8888/ (Press CTRL+C to quit)\n",
      "127.0.0.1 - - [17/Oct/2021 22:59:10] \"\u001b[37mGET / HTTP/1.1\u001b[0m\" 200 -\n",
      "127.0.0.1 - - [17/Oct/2021 22:59:13] \"\u001b[37mGET /game HTTP/1.1\u001b[0m\" 200 -\n"
     ]
    }
   ],
   "metadata": {}
  },
  {
   "cell_type": "code",
   "execution_count": null,
   "source": [],
   "outputs": [],
   "metadata": {}
  }
 ],
 "metadata": {
  "kernelspec": {
   "name": "python3",
   "display_name": "Python 3.8.8 64-bit ('base': conda)"
  },
  "language_info": {
   "codemirror_mode": {
    "name": "ipython",
    "version": 3
   },
   "file_extension": ".py",
   "mimetype": "text/x-python",
   "name": "python",
   "nbconvert_exporter": "python",
   "pygments_lexer": "ipython3",
   "version": "3.8.8"
  },
  "interpreter": {
   "hash": "b3ba2566441a7c06988d0923437866b63cedc61552a5af99d1f4fb67d367b25f"
  }
 },
 "nbformat": 4,
 "nbformat_minor": 2
}